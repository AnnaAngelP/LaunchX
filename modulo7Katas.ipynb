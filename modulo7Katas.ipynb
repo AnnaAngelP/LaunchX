{
 "cells": [
  {
   "cell_type": "markdown",
   "metadata": {},
   "source": [
    "Ejercicio 1: Creación de un bucle \"while\"\n",
    "\n",
    "\n",
    "En este ejercicio, estás creando una aplicación que solicita a un usuario que ingrese una lista de planetas. En un ejercicio posterior, agregarás código que muestre la lista. Por ahora, crearás solo el código que solicita al usuario la lista de planetas."
   ]
  },
  {
   "cell_type": "code",
   "execution_count": 7,
   "metadata": {},
   "outputs": [],
   "source": [
    "#Variable\n",
    "new_planet = ''\n",
    "planets = [] #lista de planetas\n",
    "\n",
    "while new_planet.lower() != 'done':\n",
    "    if new_planet: #se verifica si hay un valor en la variable\n",
    "        planets.append(new_planet) #almacenamos el valor en la lista\n",
    "    \n",
    "    new_planet = input('Enter a new value, or done when done') #se le  pide un planeta al user\n"
   ]
  },
  {
   "cell_type": "markdown",
   "metadata": {},
   "source": [
    "\n",
    "Ejercicio 2: Creación de un ciclo \"for\"\n",
    "\n",
    "\n",
    "En este ejercicio, completarás la aplicación escribiendo código que muestre los nombres de esos planetas.\n",
    "\n",
    "Mostrar la lista de los planetas\n"
   ]
  },
  {
   "cell_type": "code",
   "execution_count": 8,
   "metadata": {},
   "outputs": [
    {
     "name": "stdout",
     "output_type": "stream",
     "text": [
      "Jupyter\n",
      "earth\n",
      "venus\n",
      "moon\n"
     ]
    }
   ],
   "source": [
    "#Mostrar la lista de planetas\n",
    "#Variable\n",
    "new_planet = ''\n",
    "planets = [] #lista de planetas\n",
    "\n",
    "while new_planet.lower() != 'done':\n",
    "    if new_planet: #se verifica si hay un valor en la variable\n",
    "        planets.append(new_planet) #almacenamos el valor en la lista\n",
    "    \n",
    "    new_planet = input('Enter a new value, or done when done') #se le  pide un planeta al user\n",
    "\n",
    "for p in planets:\n",
    "    print(p)"
   ]
  }
 ],
 "metadata": {
  "interpreter": {
   "hash": "59224118e7d4815052cdad4519330ddaf29d09b7a43d2805632dae78848a8f98"
  },
  "kernelspec": {
   "display_name": "Python 3.8.3 64-bit",
   "language": "python",
   "name": "python3"
  },
  "language_info": {
   "codemirror_mode": {
    "name": "ipython",
    "version": 3
   },
   "file_extension": ".py",
   "mimetype": "text/x-python",
   "name": "python",
   "nbconvert_exporter": "python",
   "pygments_lexer": "ipython3",
   "version": "3.8.3"
  },
  "orig_nbformat": 4
 },
 "nbformat": 4,
 "nbformat_minor": 2
}
