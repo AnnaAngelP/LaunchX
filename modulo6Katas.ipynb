{
 "cells": [
  {
   "cell_type": "markdown",
   "metadata": {},
   "source": [
    "Ejercicio 1: Crear y usar listas de python\n",
    "\n",
    "#Usar listas para almacenar nombre de planetas"
   ]
  },
  {
   "cell_type": "code",
   "execution_count": 4,
   "metadata": {},
   "outputs": [
    {
     "name": "stdout",
     "output_type": "stream",
     "text": [
      "['Mercurio', 'Venus', 'Tierra', 'Marte', 'Jupiter', 'Saturno', 'Urano', 'Neptuno']\n",
      "Último elemento: Plutón\n"
     ]
    }
   ],
   "source": [
    "#Creamos la lista planets y la mostramos \n",
    "planets = ['Mercurio', 'Venus','Tierra', 'Marte', 'Jupiter', 'Saturno', 'Urano', 'Neptuno']\n",
    "\n",
    "print(planets)\n",
    "\n",
    "#Agregamos a plutón y mostramos el último elemento\n",
    "planets.append('Plutón')\n",
    "print('Último elemento:', planets[-1])\n"
   ]
  },
  {
   "cell_type": "markdown",
   "metadata": {},
   "source": [
    "Ejercicio 2: Trabajando con datos de una lista\n",
    "Usar slices para recuperar partes de una lista\n",
    "\n",
    "En nuestro ejemplo, queremos mostrar planetas más cerca y más lejos del sol de un planeta que el usuario ingresa por teclado.\n",
    "\n",
    "Comienza agregando el código para crear una lista con los planetas.\n"
   ]
  },
  {
   "cell_type": "markdown",
   "metadata": {},
   "source": [
    "Buscamos un planeta en la lista"
   ]
  },
  {
   "cell_type": "code",
   "execution_count": 15,
   "metadata": {},
   "outputs": [
    {
     "name": "stdout",
     "output_type": "stream",
     "text": [
      "I found the planet: Jupiter\n",
      "Index of the planet: 4\n"
     ]
    }
   ],
   "source": [
    "# Lista de planetas\n",
    "planets = ['Mercury', 'Venus', 'Earth', 'Mars', 'Jupiter', 'Saturn', 'Neptune']\n",
    "\n",
    "#Solicitamos el nombre de un planeta\n",
    "planet = input('Ingresa el nombre de un planeta (use una letra mayuscula en la Inicial del nombre por favor):')\n",
    "\n",
    "#Busca el planeta en la lista\n",
    "for i in planets:\n",
    "    if planet == i:\n",
    "        print('I found the planet:', i)\n",
    "        print(\"Index of the planet:\",planets.index(planet))\n"
   ]
  },
  {
   "cell_type": "markdown",
   "metadata": {},
   "source": [
    "Lista del planetas cerca y lejos del nombre del planeta que ingresó el usuario"
   ]
  },
  {
   "cell_type": "code",
   "execution_count": 14,
   "metadata": {},
   "outputs": [
    {
     "name": "stdout",
     "output_type": "stream",
     "text": [
      "Planet entered: Mars\n",
      "Planets close to the sun from which the user entered:\n",
      "['Mercury', 'Venus', 'Earth']\n",
      "Planets far from the sun from which the user entered:\n",
      "['Jupiter', 'Saturn', 'Neptune']\n"
     ]
    }
   ],
   "source": [
    "# Lista de planetas\n",
    "planets = ['Mercury', 'Venus', 'Earth', 'Mars', 'Jupiter', 'Saturn', 'Neptune']\n",
    "\n",
    "#Solicitamos el nombre de un planeta\n",
    "planet = input('Please, enter the name of a planet (use a capital letter in the Initial of the name please):')\n",
    "\n",
    "#Mostrar los planetas cercanos al sol que el que el usuario ingresó\n",
    "#muestra los planetas más cercanos al sol\n",
    "indexPlanet = planets.index(planet) #index del planeta\n",
    "\n",
    "print(\"Planet entered:\", planet)\n",
    "\n",
    "planetsCloseSun = planets[0:indexPlanet]\n",
    "print(\"Planets close to the sun from which the user entered:\")\n",
    "print(planetsCloseSun)\n",
    "\n",
    "#Mostrar los planetas más alejados del sol que el que el usuario ingresó\n",
    "planetsFarSun = planets[indexPlanet+1:len(planets)]\n",
    "print(\"Planets far from the sun from which the user entered:\")\n",
    "print(planetsFarSun)"
   ]
  }
 ],
 "metadata": {
  "interpreter": {
   "hash": "59224118e7d4815052cdad4519330ddaf29d09b7a43d2805632dae78848a8f98"
  },
  "kernelspec": {
   "display_name": "Python 3.8.3 64-bit",
   "language": "python",
   "name": "python3"
  },
  "language_info": {
   "codemirror_mode": {
    "name": "ipython",
    "version": 3
   },
   "file_extension": ".py",
   "mimetype": "text/x-python",
   "name": "python",
   "nbconvert_exporter": "python",
   "pygments_lexer": "ipython3",
   "version": "3.8.3"
  },
  "orig_nbformat": 4
 },
 "nbformat": 4,
 "nbformat_minor": 2
}
