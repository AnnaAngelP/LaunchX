{
 "cells": [
  {
   "cell_type": "markdown",
   "metadata": {},
   "source": [
    "Primer programa\n",
    "\n",
    "Código que muestra la fecha de hoy"
   ]
  },
  {
   "cell_type": "code",
   "execution_count": 2,
   "metadata": {},
   "outputs": [
    {
     "name": "stdout",
     "output_type": "stream",
     "text": [
      "Today's data is:  2022-02-13\n"
     ]
    }
   ],
   "source": [
    "#Se importa la biblioteca\n",
    "from datetime import date \n",
    "\n",
    "#Se crea una variable donde se obtiene la fecha de hoy \n",
    "fecha = str(date.today()) #con str() se convierte la fecha en cadena\n",
    "\n",
    "#se imprime la fecha de hoy\n",
    "print(\"Today's data is: \", fecha)"
   ]
  },
  {
   "cell_type": "markdown",
   "metadata": {},
   "source": [
    "Construir un  convertidor de unidades\n",
    "\n",
    "##Programa de conversión entre parsecs y años luz\n",
    "\n",
    "##1 parsec es 3.26156 años luz. Utiliza el operador de multiplicación."
   ]
  },
  {
   "cell_type": "code",
   "execution_count": 1,
   "metadata": {},
   "outputs": [
    {
     "name": "stdout",
     "output_type": "stream",
     "text": [
      "11 parsec, is 35.877159999999996 lightyears\n"
     ]
    }
   ],
   "source": [
    "parsec = 11\n",
    "\n",
    "parsecToLightYears = parsec * 3.26156 \n",
    "\n",
    "print(str(parsec) + \" parsec, is \" + str(parsecToLightYears) + \" lightyears\")\n"
   ]
  }
 ],
 "metadata": {
  "interpreter": {
   "hash": "59224118e7d4815052cdad4519330ddaf29d09b7a43d2805632dae78848a8f98"
  },
  "kernelspec": {
   "display_name": "Python 3.8.3 64-bit",
   "language": "python",
   "name": "python3"
  },
  "language_info": {
   "codemirror_mode": {
    "name": "ipython",
    "version": 3
   },
   "file_extension": ".py",
   "mimetype": "text/x-python",
   "name": "python",
   "nbconvert_exporter": "python",
   "pygments_lexer": "ipython3",
   "version": "3.8.3"
  },
  "orig_nbformat": 4
 },
 "nbformat": 4,
 "nbformat_minor": 2
}
