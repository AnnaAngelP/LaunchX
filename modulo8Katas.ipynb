{
 "cells": [
  {
   "cell_type": "markdown",
   "metadata": {},
   "source": [
    "Ejercicio 1: Creación de diccionarios de Python\n",
    "\n",
    "Ejercicio:Crear y modificar un diccionario de python"
   ]
  },
  {
   "cell_type": "code",
   "execution_count": 22,
   "metadata": {},
   "outputs": [
    {
     "name": "stdout",
     "output_type": "stream",
     "text": [
      "Planet: Mars\n",
      "Moons: 2\n",
      "Nombre del planeta: Mars, circunferencia polar: 6752\n"
     ]
    }
   ],
   "source": [
    "#Crea un diccionario llamado planet\n",
    "planet = {\n",
    "    'name': 'Mars',\n",
    "    'moons': 2 \n",
    "}\n",
    "\n",
    "#Para recuperar valores, puede utilizar el método get o corchetes ([ ]) con el nombre de la clave que desea recuperar.\n",
    "# Muestra el nombre del planeta y el número de lunas que tiene.\n",
    "\n",
    "print('Planet:',planet['name'])\n",
    "print('Moons:',planet['moons'])\n",
    "\n",
    "\n",
    "#Agrega un nuevo valor con una clave de 'circunferencia (km)'. Este nuevo valor debería almacenar un diccionario con las dos circunferencias del planeta:\n",
    "#polar: 6752\n",
    "#equatorial: 6792\n",
    "\n",
    "#Añadimos los datos\n",
    "planet['circunferencia (km)'] = {\n",
    "    'polar': 6752,\n",
    "    'equatorial': 6752\n",
    "\n",
    "}\n",
    "\n",
    "\n",
    "print(f'Nombre del planeta: {planet[\"name\"]}, circunferencia polar: {planet[\"circunferencia (km)\"][\"polar\"]}')\n",
    "\n",
    "#print(f'{planet['name']} polar diameter: {planet['diameter (km)']['polar']}')\n",
    "\n",
    "# Salida: Jupiter polar diameter: 133709"
   ]
  },
  {
   "cell_type": "markdown",
   "metadata": {},
   "source": [
    "\n",
    "Ejercicio 2: Programación dinámica con diccionarios\n",
    "\n",
    "En este escenario, calcularás tanto el número total de lunas en el sistema solar como el número promedio de lunas que tiene un planeta."
   ]
  },
  {
   "cell_type": "code",
   "execution_count": 23,
   "metadata": {},
   "outputs": [
    {
     "name": "stdout",
     "output_type": "stream",
     "text": [
      "Moons: dict_values([0, 0, 1, 2, 79, 82, 27, 14, 5, 2, 1, 1])\n",
      "Planets: 12\n",
      "There are: 214 moons in total\n",
      "Average: 17.833333333333332\n"
     ]
    }
   ],
   "source": [
    "#Planets and moons\n",
    "planet_moons = {\n",
    "    'mercury': 0,\n",
    "    'venus': 0,\n",
    "    'earth': 1,\n",
    "    'mars': 2,\n",
    "    'jupiter': 79,\n",
    "    'saturn': 82,\n",
    "    'uranus': 27,\n",
    "    'neptune': 14,\n",
    "    'pluto': 5,\n",
    "    'haumea': 2,\n",
    "    'makemake': 1,\n",
    "    'eris': 1\n",
    "}\n",
    "\n",
    "totalMoons = 0\n",
    "\n",
    "#obtenemos la lista de las lunas\n",
    "#Almacenamos los resultados de en una variable moons\n",
    "moons = planet_moons.values()\n",
    "\n",
    "#Obtenemos el numero total de planetas\n",
    "planets = len(planet_moons)\n",
    "\n",
    "print('Moons:',moons)\n",
    "print('Planets:',planets)\n",
    "\n",
    "#se obtiene el numero total de lunas\n",
    "#Recorremos los values de planet_moons \n",
    "for moon in planet_moons.values():\n",
    "    totalMoons = totalMoons + moon\n",
    "\n",
    "#muestra el total de lunas\n",
    "print(f'There are: {totalMoons} moons in total')\n",
    "\n",
    "#promedio \n",
    "average = totalMoons/planets\n",
    "print('Average:',average)\n",
    "   "
   ]
  }
 ],
 "metadata": {
  "interpreter": {
   "hash": "59224118e7d4815052cdad4519330ddaf29d09b7a43d2805632dae78848a8f98"
  },
  "kernelspec": {
   "display_name": "Python 3.8.3 64-bit",
   "language": "python",
   "name": "python3"
  },
  "language_info": {
   "codemirror_mode": {
    "name": "ipython",
    "version": 3
   },
   "file_extension": ".py",
   "mimetype": "text/x-python",
   "name": "python",
   "nbconvert_exporter": "python",
   "pygments_lexer": "ipython3",
   "version": "3.8.3"
  },
  "orig_nbformat": 4
 },
 "nbformat": 4,
 "nbformat_minor": 2
}
