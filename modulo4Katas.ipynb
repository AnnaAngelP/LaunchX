{
 "cells": [
  {
   "cell_type": "markdown",
   "metadata": {},
   "source": [
    "Ejercicio 1\n",
    "\n"
   ]
  },
  {
   "cell_type": "code",
   "execution_count": 3,
   "metadata": {},
   "outputs": [
    {
     "name": "stdout",
     "output_type": "stream",
     "text": [
      "['Interesting facts about the Moon', \" The Moon is Earth's only satellite\", ' There are several interesting facts about the Moon and how it affects life here on Earth', ' \\nOn average, the Moon moves 4cm away from the Earth every year', ' This yearly drift is not significant enough to cause immediate effects on Earth', ' The highest daylight temperature of the Moon is 127 C', '']\n"
     ]
    }
   ],
   "source": [
    "text = \"\"\"Interesting facts about the Moon. The Moon is Earth's only satellite. There are several interesting facts about the Moon and how it affects life here on Earth. \n",
    "On average, the Moon moves 4cm away from the Earth every year. This yearly drift is not significant enough to cause immediate effects on Earth. The highest daylight temperature of the Moon is 127 C.\"\"\"\n",
    "\n",
    "#Primero, divide el texto en cada oración para trabajar con su contenido:\n",
    "print(text.split(\".\"))\n",
    "\n"
   ]
  },
  {
   "cell_type": "code",
   "execution_count": 3,
   "metadata": {},
   "outputs": [
    {
     "name": "stdout",
     "output_type": "stream",
     "text": [
      "I found the word: average\n",
      "I found the word: temperature\n",
      "I didn't find the word: distance\n",
      "\n"
     ]
    }
   ],
   "source": [
    "text = \"\"\"Interesting facts about the Moon. The Moon is Earth's only satellite. There are several interesting facts about the Moon and how it affects life here on Earth. \n",
    "On average, the Moon moves 4cm away from the Earth every year. This yearly drift is not significant enough to cause immediate effects on Earth. The highest daylight temperature of the Moon is 127 C.\"\"\"\n",
    "\n",
    "#Define palabras clave para búsqueda que ayudarán a determinar si una oración contiene un hecho.\n",
    "# Define las palabras pista: average, temperature y distance suenan bien \n",
    "\n",
    "if text.find('average') != -1:\n",
    "    print('I found the word: average')\n",
    "else:\n",
    "    print(\"I didn't find the word: average\")\n",
    "\n",
    "\n",
    "if text.find('temperature') != -1:\n",
    "    print('I found the word: temperature')\n",
    "else:\n",
    "    print(\"I didn't find the word: temperature\")\n",
    "\n",
    "\n",
    "if text.find('distance') != -1:\n",
    "    print('I found the word: distance')\n",
    "else:\n",
    "    print(\"I didn't find the word: distance\")\n",
    "\n",
    "print()\n",
    "\n",
    "#print(text.find('average'))\n",
    "#print(text.find('temperature'))\n",
    "#print(text.find('distance'))"
   ]
  },
  {
   "cell_type": "markdown",
   "metadata": {},
   "source": [
    "\n",
    "\n",
    "Crea un bucle para imprimir solo datos sobre la Luna que estén relacionados con las palabras clave definidas anteriormente:\n",
    "\n",
    "#Ciclo for para recorrer la cadena\n",
    "\n"
   ]
  },
  {
   "cell_type": "code",
   "execution_count": 13,
   "metadata": {},
   "outputs": [
    {
     "name": "stdout",
     "output_type": "stream",
     "text": [
      "\n",
      "On average, the Moon moves 4cm away from the Earth every year\n",
      "The highest daylight temperature of the Moon is 127 C.\n"
     ]
    }
   ],
   "source": [
    "text = \"\"\"Interesting facts about the Moon. The Moon is Earth's only satellite. There are several interesting facts about the Moon and how it affects life here on Earth. \n",
    "On average, the Moon moves 4cm away from the Earth every year. This yearly drift is not significant enough to cause immediate effects on Earth. The highest daylight temperature of the Moon is 127 C.\"\"\"\n",
    "\n",
    "#palabras clave que se buscarán en el texto\n",
    "keyWords = [\"average\",\"temperature\",\" distance\" ]\n",
    "textInParts = text.split('. ') #se divide el texto en partes\n",
    "\n",
    "for sentence in textInParts: #se recorre cada oracion \n",
    "    for keyWord in keyWords: #se recorre el arreglo \n",
    "        if keyWord in sentence: #si la palabra se encuentra en la oracion se imprime la oracion\n",
    "            print(sentence)\n",
    "            break        \n"
   ]
  },
  {
   "cell_type": "markdown",
   "metadata": {},
   "source": [
    "Ejercicio 2: Formateando Cadenas"
   ]
  },
  {
   "cell_type": "code",
   "execution_count": 21,
   "metadata": {},
   "outputs": [
    {
     "name": "stdout",
     "output_type": "stream",
     "text": [
      "Gravity Facts about Moon\n",
      "------------------------------------------------------\n",
      "Planet Name: Earth\n",
      "Gravity on Moon:  1.6199999999999999 m/s2\n"
     ]
    }
   ],
   "source": [
    "# Datos con los que vas a trabajar\n",
    "name = \"Moon\"\n",
    "gravity = 0.00162 # in kms\n",
    "planet = \"Earth\"\n",
    "\n",
    "#Creamos el título para el texto\n",
    "title = \"Gravity Facts about\"\n",
    "\n",
    "#Creamos plantilla\n",
    "converter = gravity * 1000\n",
    "\n",
    "\n",
    "#First solution\n",
    "print(title,'{}'.format(name))\n",
    "print('------------------------------------------------------')\n",
    "print('Planet Name: {}'.format(planet))\n",
    "print('Gravity on {}: '.format((name)), converter,'m/s2')\n",
    "\n"
   ]
  },
  {
   "cell_type": "code",
   "execution_count": 28,
   "metadata": {},
   "outputs": [
    {
     "name": "stdout",
     "output_type": "stream",
     "text": [
      "\n",
      "Gravity Facts about: Moon\n",
      "------------------------------------------------------\n",
      "Planet name: Earth\n",
      "Gravity on Moon: 1.6199999999999999 m/s2\n",
      "\n"
     ]
    }
   ],
   "source": [
    "# Datos con los que vas a trabajar\n",
    "name = \"Moon\"\n",
    "gravity = 0.00162 # in kms\n",
    "planet = \"Earth\"\n",
    "\n",
    "#Creamos el título para el texto\n",
    "title = \"Gravity Facts about\"\n",
    "\n",
    "#Creamos plantilla\n",
    "converter = gravity * 1000\n",
    "\n",
    "#Second solution\n",
    "template = \"\"\"\n",
    "Gravity Facts about: {name}\n",
    "------------------------------------------------------\n",
    "Planet name: {planet}\n",
    "Gravity on {name}: {converter} m/s2\n",
    "\"\"\"\n",
    "print(template.format(name=name, planet=planet, converter=converter))\n"
   ]
  }
 ],
 "metadata": {
  "interpreter": {
   "hash": "59224118e7d4815052cdad4519330ddaf29d09b7a43d2805632dae78848a8f98"
  },
  "kernelspec": {
   "display_name": "Python 3.8.3 64-bit",
   "language": "python",
   "name": "python3"
  },
  "language_info": {
   "codemirror_mode": {
    "name": "ipython",
    "version": 3
   },
   "file_extension": ".py",
   "mimetype": "text/x-python",
   "name": "python",
   "nbconvert_exporter": "python",
   "pygments_lexer": "ipython3",
   "version": "3.8.3"
  },
  "orig_nbformat": 4
 },
 "nbformat": 4,
 "nbformat_minor": 2
}
