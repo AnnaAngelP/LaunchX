{
 "cells": [
  {
   "cell_type": "markdown",
   "metadata": {},
   "source": [
    "Ejercicio 1. Utilizar operadores aritméticos\n"
   ]
  },
  {
   "cell_type": "markdown",
   "metadata": {},
   "source": [
    "Exploremos cómo podemos crear un programa que pueda calcular la distancia entre dos planetas. Comenzaremos usando dos distancias de planetas: Tierra (149.597.870 km) y Júpiter (778.547.200 km)."
   ]
  },
  {
   "cell_type": "code",
   "execution_count": 5,
   "metadata": {},
   "outputs": [
    {
     "name": "stdout",
     "output_type": "stream",
     "text": [
      "Distancia: 628949330 km\n",
      "Distancia: 390577534 millas\n"
     ]
    }
   ],
   "source": [
    "# Crear variables para almacenar las dos distancias\n",
    "\n",
    "planeta1 = 149597870 #Tierra distancia en km\n",
    "planeta2 = 778547200 #Jupiter distancia en km\n",
    "\n",
    "#Calcular la distancia entre planetas\n",
    "distancia = planeta2 - planeta1\n",
    "\n",
    "#Distancia en millas\n",
    "distanciaMillas = round(distancia * 0.621) \n",
    "\n",
    "print(\"Distancia:\",distancia,\"km\")\n",
    "print(\"Distancia:\",distanciaMillas,\"millas\")\n"
   ]
  },
  {
   "cell_type": "markdown",
   "metadata": {},
   "source": [
    "Ejercicio 2: Convierte cadenas en números y usa valores absolutos\n",
    "\n",
    "Crear una aplicación para trabajar con números y entrada de usuario\n",
    "\n",
    "Para crear nuestra aplicación, queremos leer la distancia del sol para dos planetas, y luego mostrar la distancia entre los planetas. Haremos esto usando input para leer los valores, int para convertir a entero y luego abs para convertir el resultado en su valor absoluto."
   ]
  },
  {
   "cell_type": "code",
   "execution_count": 7,
   "metadata": {},
   "outputs": [
    {
     "name": "stdout",
     "output_type": "stream",
     "text": [
      "23\n"
     ]
    }
   ],
   "source": [
    "#Lee la distancia para los dos planetas\n",
    "planeta1 = input(\"¿Cuál es la distancia del primer planeta?\")\n",
    "planeta2 = input(\"¿Cuál es la distancia del segundo planeta?\")\n",
    "\n",
    "#Debido a que input devuelve valores de cadena necesitamos convertirlos en números\n",
    "#Convertir de cadena a número\n",
    "planeta_1 = int(planeta1)\n",
    "planeta_2 = int(planeta2)\n",
    "\n",
    "#Convertir a valor absoluto\n",
    "distanciaKm = abs(planeta_1 - planeta_2)\n",
    "\n",
    "#Convertir Km a millas\n",
    "distanciaMillas = distanciaKm * 0.621\n",
    "\n",
    "print(distancia)\n",
    "print(distanciaMillas)\n",
    "\n"
   ]
  }
 ],
 "metadata": {
  "interpreter": {
   "hash": "59224118e7d4815052cdad4519330ddaf29d09b7a43d2805632dae78848a8f98"
  },
  "kernelspec": {
   "display_name": "Python 3.8.3 64-bit",
   "language": "python",
   "name": "python3"
  },
  "language_info": {
   "codemirror_mode": {
    "name": "ipython",
    "version": 3
   },
   "file_extension": ".py",
   "mimetype": "text/x-python",
   "name": "python",
   "nbconvert_exporter": "python",
   "pygments_lexer": "ipython3",
   "version": "3.8.3"
  },
  "orig_nbformat": 4
 },
 "nbformat": 4,
 "nbformat_minor": 2
}
