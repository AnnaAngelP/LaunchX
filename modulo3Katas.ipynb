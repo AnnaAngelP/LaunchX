{
 "cells": [
  {
   "cell_type": "markdown",
   "metadata": {},
   "source": [
    "Ejercicio 1\n",
    "\n",
    "Para este ejercicio, escribirás una lógica condicional que imprima una advertencia si un asteroide se acerca a la Tierra demasiado rápido. La velocidad del asteroide varía dependiendo de lo cerca que esté del sol, y cualquier velocidad superior a 25 kilómetros por segundo (km/s) merece una advertencia.\n",
    "\n",
    "Un asteroide se acerca, y viaja a una velocidad de 49 km/s."
   ]
  },
  {
   "cell_type": "code",
   "execution_count": 6,
   "metadata": {},
   "outputs": [
    {
     "name": "stdout",
     "output_type": "stream",
     "text": [
      "Advertencia! se acerca un asteroide demasiado rápido a la tierra!\n"
     ]
    }
   ],
   "source": [
    "# Añadir el código necesario para crear una variable que guarde la velocidad del asteroide.\n",
    "velAsteroide = 49\n",
    "\n",
    "# Escribe una expresión de prueba para calcular si necesita una advertencia.\n",
    "if velAsteroide > 25:    \n",
    "    print(\"Advertencia! se acerca un asteroide demasiado rápido a la tierra!\")\n",
    "\n",
    "\n",
    "else:\n",
    "    print(\"Se acercaun asteroide a la tierra pero su velocidad no pone en peligro a la Tierra\")\n"
   ]
  },
  {
   "cell_type": "markdown",
   "metadata": {},
   "source": [
    "Ejercicio 2\n",
    "\n",
    "Si un asteroide entra en la atmósfera de la Tierra a una velocidad mayor o igual a 20 km/s, a veces produce un rayo de luz que se puede ver desde la Tierra. Escribe la lógica condicional que usa declaraciones if, else, y elif para alertar a las personas de todo el mundo que deben buscar un asteroide en el cielo. ¡Hay uno que se dirige a la tierra ahora a una velocidad de 19 km/s!"
   ]
  },
  {
   "cell_type": "code",
   "execution_count": 4,
   "metadata": {},
   "outputs": [
    {
     "name": "stdout",
     "output_type": "stream",
     "text": [
      "Oops.. Lo siento! Esta vez no podrás ver el asteriode! buena suerte para la próxima!!\n"
     ]
    }
   ],
   "source": [
    "velAsteroide = 19\n",
    "bandAviso = False\n",
    "if velAsteroide >= 20:\n",
    "    bandAviso = True\n",
    "\n",
    "if bandAviso == True:\n",
    "    print(\"Hay un asteriode que puedes ver! Sal de casa y observa el asteroide!\")\n",
    "\n",
    "else:\n",
    "    print(\"Oops.. Lo siento! Esta vez no podrás ver el asteriode! buena suerte para la próxima!!\")\n",
    "\n"
   ]
  },
  {
   "cell_type": "markdown",
   "metadata": {},
   "source": [
    "Ejercicio 3\n",
    "\n",
    "*Los asteroides de menos de 25 metros en su dimensión más grande probablemente se quemarán a medida que entren en la atmósfera de la Tierra.\n",
    "\n",
    "    Si una pieza de un asteroide que es más grande que 25 metros pero más pequeña que 1000 metros golpeara la Tierra, causaría mucho daño.\n",
    "\n",
    "También discutimos en el ejercicio anterior que:\n",
    "\n",
    "    La velocidad del asteroide varía en función de lo cerca que esté del sol, y cualquier velocidad superior a 25 kilómetros por segundo (km/s) merece una advertencia.\n",
    "    Si un asteroide entra en la atmósfera de la Tierra a una velocidad mayor o igual a 20 km/s, a veces produce un rayo de luz que se puede ver desde la Tierra.\n",
    "\n",
    "Usando toda esta información, escribe un programa que emita la advertencia o información correcta a la gente de la Tierra, según la velocidad y el tamaño de un asteroide. Utiliza instrucciones if, else, y elif, así como los operadores and y or."
   ]
  },
  {
   "cell_type": "code",
   "execution_count": 8,
   "metadata": {},
   "outputs": [
    {
     "name": "stdout",
     "output_type": "stream",
     "text": [
      "Sal afuera! Puedes ver asteroide pasar en el cielo\n"
     ]
    }
   ],
   "source": [
    "dimAsteroide = 40\n",
    "velAsteroide = 25\n",
    "\n",
    "if dimAsteroide < 25:\n",
    "    print(\"El aesteroide no pone en peligro a la tierra\")\n",
    "\n",
    "elif velAsteroide > 25 and dimAsteroide > 25 and dimAsteroide < 1000:\n",
    "    print('¡Alerta,Un asteroide se acerca y pone en peligro a la tierra!')\n",
    "\n",
    "elif velAsteroide >= 20:\n",
    "    print(\"Sal afuera! Puedes ver asteroide pasar en el cielo\")\n",
    "\n",
    "else: \n",
    "    print(\"Nada que ver aqui\")"
   ]
  }
 ],
 "metadata": {
  "interpreter": {
   "hash": "59224118e7d4815052cdad4519330ddaf29d09b7a43d2805632dae78848a8f98"
  },
  "kernelspec": {
   "display_name": "Python 3.8.3 64-bit",
   "language": "python",
   "name": "python3"
  },
  "language_info": {
   "codemirror_mode": {
    "name": "ipython",
    "version": 3
   },
   "file_extension": ".py",
   "mimetype": "text/x-python",
   "name": "python",
   "nbconvert_exporter": "python",
   "pygments_lexer": "ipython3",
   "version": "3.8.3"
  },
  "orig_nbformat": 4
 },
 "nbformat": 4,
 "nbformat_minor": 2
}
