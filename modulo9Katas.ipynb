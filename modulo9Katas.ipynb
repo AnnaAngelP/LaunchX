{
 "cells": [
  {
   "cell_type": "markdown",
   "metadata": {},
   "source": [
    "Ejercicio: Uso de funciones en python\n",
    "\n",
    "En este ejercicio, construirás un informe de combustible que requiere información de varias ubicaciones de combustible en todo el cohete."
   ]
  },
  {
   "cell_type": "code",
   "execution_count": 26,
   "metadata": {},
   "outputs": [
    {
     "name": "stdout",
     "output_type": "stream",
     "text": [
      "Fuel Report:\n",
      "    Total Average: 13.666666666666666%\n",
      "    First tank: 15%  \n",
      "    Second tank: 5% \n",
      "    Third tank: 21% \n",
      "    \n"
     ]
    }
   ],
   "source": [
    "#Funcion para leer 3 tanques de combustible y muestre el promedio\n",
    "def generaReportes(t1,t2,t3):\n",
    "    average = (t1 + t2 + t3)/3\n",
    "    #print('Average:',average)\n",
    "\n",
    "    return f'''Fuel Report:\n",
    "    Total Average: {average}%\n",
    "    First tank: {t1}%  \n",
    "    Second tank: {t2}% \n",
    "    Third tank: {t3}% \n",
    "    '''\n",
    "\n",
    "tanque1 = int(input(\"Por favor, Ingrese el primer tanque\"))\n",
    "tanque2 = int(input(\"Por favor, Ingrese el segundo tanque\"))\n",
    "tanque3 = int(input(\"Por favor, ingrese el tercer tanque\"))\n",
    "\n",
    "# Llamamos a la función que genera el reporte print(funcion(tanque1, tanque2, tanque3))\n",
    "print(generaReportes(tanque1, tanque2, tanque3))"
   ]
  },
  {
   "cell_type": "code",
   "execution_count": 23,
   "metadata": {},
   "outputs": [
    {
     "name": "stdout",
     "output_type": "stream",
     "text": [
      "Average: 35.333333333333336\n"
     ]
    }
   ],
   "source": [
    "#Funcion promedio\n",
    "def average(*tanks):\n",
    "    totalsum = sum(tanks)    \n",
    "    average = totalsum / len(tanks) \n",
    "    return average\n",
    "\n",
    "print('Average:',average(15,24,67))"
   ]
  },
  {
   "cell_type": "code",
   "execution_count": 25,
   "metadata": {},
   "outputs": [
    {
     "name": "stdout",
     "output_type": "stream",
     "text": [
      "Fuel Report:\n",
      "    Total Average: 35.333333333333336%\n",
      "    First tank: 15%  \n",
      "    Second tank: 24% \n",
      "    Third tank: 67% \n",
      "    \n"
     ]
    }
   ],
   "source": [
    "\n",
    "\n",
    "def average(*tanks):\n",
    "    totalsum = sum(tanks)    \n",
    "    average = totalsum / len(tanks) \n",
    "    \n",
    "    return f'''Fuel Report:\n",
    "    Total Average: {average}%\n",
    "    First tank: {tanks[0]}%  \n",
    "    Second tank: {tanks[1]}% \n",
    "    Third tank: {tanks[2]}% \n",
    "    '''\n",
    "\n",
    "print(average(15,24,67))"
   ]
  },
  {
   "cell_type": "markdown",
   "metadata": {},
   "source": [
    "Ejercicio 2: Trabajo con Argumentos de palabra clave\n",
    "\n",
    "En este ejercicio, construirás un informe de cohete que requiere varias piezas de información, como el tiempo hasta el destino, el combustible a la izquierda y el nombre del destino. Comienza por crear una función que creará un informe preciso de la misión:"
   ]
  },
  {
   "cell_type": "code",
   "execution_count": 41,
   "metadata": {},
   "outputs": [
    {
     "name": "stdout",
     "output_type": "stream",
     "text": [
      "'\n",
      "        Report\n",
      "        Destination: Moon\n",
      "        Pre launch time: 78 min\n",
      "        flight time: 160 min\n",
      "        Total travel time: 238 min\n",
      "        Fuel external tank: 230 gallons\n",
      "        Fuel internal tank: 168 gallons\n",
      "        Total fuel left 398 gallons\n",
      "    \n"
     ]
    }
   ],
   "source": [
    "# Función con un informe preciso de la misión. \n",
    "# Considera hora de prelanzamiento, tiempo de vuelo, destino, tanque externo y tanque interno\n",
    "\n",
    "def report(preLaunchTime,flightTime, destination, externalTank, internalTank):\n",
    "    return f''''\n",
    "        Report\n",
    "        Destination: {destination}\n",
    "        Pre launch time: {preLaunchTime} min\n",
    "        flight time: {flightTime} min\n",
    "        Total travel time: {preLaunchTime + flightTime} min\n",
    "        Fuel external tank: {externalTank} gallons\n",
    "        Fuel internal tank: {internalTank} gallons\n",
    "        Total fuel left {externalTank + internalTank} gallons\n",
    "    '''\n",
    "\n",
    "print(report( 78, 160 ,'Moon', 230, 168))\n"
   ]
  },
  {
   "cell_type": "code",
   "execution_count": 51,
   "metadata": {},
   "outputs": [
    {
     "name": "stdout",
     "output_type": "stream",
     "text": [
      "\n",
      "        Report\n",
      "        Destination: Moon        \n",
      "        Total travel time: 76 min        \n",
      "        Total fuel left 7809 gallons\n",
      "    \n"
     ]
    }
   ],
   "source": [
    "# Escribe tu nueva función de reporte considerando lo anterior\n",
    "\n",
    "\n",
    "def report(destination, *minutes, **fuelReservoirs):\n",
    "    return f\"\"\"\n",
    "        Report\n",
    "        Destination: {destination}        \n",
    "        Total travel time: {sum(minutes)} min        \n",
    "        Total fuel left {sum(fuelReservoirs.values())} gallons\n",
    "    \"\"\"\n",
    "\n",
    "print(report(\"Moon\", 10, 15, 51, main= 5464, external= 2345))\n"
   ]
  },
  {
   "cell_type": "code",
   "execution_count": 71,
   "metadata": {},
   "outputs": [
    {
     "name": "stdout",
     "output_type": "stream",
     "text": [
      "\n",
      "        Report\n",
      "        Destination: Moon        \n",
      "        Total travel time: 76 min        \n",
      "        Total fuel left 7809 gallons\n",
      "    \n",
      "     internal tank:  5464 gallons \n",
      " external tank:  2345 gallons \n",
      "\n"
     ]
    }
   ],
   "source": [
    "# Nueva función\n",
    "\n",
    "def report(destination, *minutes, **fuelReservoirs):\n",
    "    menssageReport = f\"\"\"\n",
    "        Report\n",
    "        Destination: {destination}        \n",
    "        Total travel time: {sum(minutes)} min        \n",
    "        Total fuel left {sum(fuelReservoirs.values())} gallons\n",
    "    \n",
    "    \"\"\"\n",
    "    for tank, amount in fuelReservoirs.items():\n",
    "        menssageReport += f\" {tank} tank:  {amount} gallons \\n\"        \n",
    "    return menssageReport\n",
    "\n",
    "print(report(\"Moon\", 10, 15, 51, internal= 5464, external= 2345))\n",
    "\n",
    "\n",
    "    "
   ]
  },
  {
   "cell_type": "code",
   "execution_count": null,
   "metadata": {},
   "outputs": [],
   "source": [
    "#Debido a que el combustible que queda en los tanques es específico de cada tanque, actualiza la función para usar el nombre de cada tanque en el informe:\n",
    "#Nueva función"
   ]
  }
 ],
 "metadata": {
  "interpreter": {
   "hash": "59224118e7d4815052cdad4519330ddaf29d09b7a43d2805632dae78848a8f98"
  },
  "kernelspec": {
   "display_name": "Python 3.8.3 64-bit",
   "language": "python",
   "name": "python3"
  },
  "language_info": {
   "codemirror_mode": {
    "name": "ipython",
    "version": 3
   },
   "file_extension": ".py",
   "mimetype": "text/x-python",
   "name": "python",
   "nbconvert_exporter": "python",
   "pygments_lexer": "ipython3",
   "version": "3.8.3"
  },
  "orig_nbformat": 4
 },
 "nbformat": 4,
 "nbformat_minor": 2
}
